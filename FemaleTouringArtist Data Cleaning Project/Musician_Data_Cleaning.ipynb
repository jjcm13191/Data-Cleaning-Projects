{
  "metadata": {
    "kernelspec": {
      "name": "python",
      "display_name": "Python (Pyodide)",
      "language": "python"
    },
    "language_info": {
      "codemirror_mode": {
        "name": "python",
        "version": 3
      },
      "file_extension": ".py",
      "mimetype": "text/x-python",
      "name": "python",
      "nbconvert_exporter": "python",
      "pygments_lexer": "ipython3",
      "version": "3.8"
    }
  },
  "nbformat_minor": 5,
  "nbformat": 4,
  "cells": [
    {
      "id": "22b279cc-85a1-4a64-80a6-d1188ec6620f",
      "cell_type": "code",
      "source": "import pandas as pd\nimport numpy as np\nimport matplotlib.pyplot as plt",
      "metadata": {
        "trusted": true
      },
      "outputs": [],
      "execution_count": 71
    },
    {
      "id": "162f2f01-7aef-418a-b66e-72dd6ffc7216",
      "cell_type": "code",
      "source": "df = pd.read_csv(\"my_file (1).csv\")",
      "metadata": {
        "trusted": true
      },
      "outputs": [],
      "execution_count": 72
    },
    {
      "id": "ae27b0ba-f875-46c5-9f7a-27af593f133f",
      "cell_type": "code",
      "source": "df.head()",
      "metadata": {
        "trusted": true
      },
      "outputs": [
        {
          "execution_count": 73,
          "output_type": "execute_result",
          "data": {
            "text/plain": "   Rank  Peak All Time Peak  Actual gross Adjusted gross (in 2022 dollars)  \\\n0     1     1             2  $780,000,000                     $780,000,000   \n1     2     1          7[2]  $579,800,000                     $579,800,000   \n2     3  1[4]          2[5]  $411,000,000                     $560,622,615   \n3     4  2[7]         10[7]  $397,300,000                     $454,751,555   \n4     5  2[4]           NaN  $345,675,146                     $402,844,849   \n\n         Artist                   Tour title    Year(s)  Shows Average gross  \\\n0  Taylor Swift              The Eras Tour †  2023–2024     56   $13,928,571   \n1       Beyoncé       Renaissance World Tour       2023     56   $10,353,571   \n2       Madonna  Sticky & Sweet Tour ‡[4][a]  2008–2009     85    $4,835,294   \n3          Pink  Beautiful Trauma World Tour  2018–2019    156    $2,546,795   \n4  Taylor Swift      Reputation Stadium Tour       2018     53    $6,522,173   \n\n  Ref.  \n0  [1]  \n1  [3]  \n2  [6]  \n3  [7]  \n4  [8]  ",
            "text/html": "<div>\n<style scoped>\n    .dataframe tbody tr th:only-of-type {\n        vertical-align: middle;\n    }\n\n    .dataframe tbody tr th {\n        vertical-align: top;\n    }\n\n    .dataframe thead th {\n        text-align: right;\n    }\n</style>\n<table border=\"1\" class=\"dataframe\">\n  <thead>\n    <tr style=\"text-align: right;\">\n      <th></th>\n      <th>Rank</th>\n      <th>Peak</th>\n      <th>All Time Peak</th>\n      <th>Actual gross</th>\n      <th>Adjusted gross (in 2022 dollars)</th>\n      <th>Artist</th>\n      <th>Tour title</th>\n      <th>Year(s)</th>\n      <th>Shows</th>\n      <th>Average gross</th>\n      <th>Ref.</th>\n    </tr>\n  </thead>\n  <tbody>\n    <tr>\n      <th>0</th>\n      <td>1</td>\n      <td>1</td>\n      <td>2</td>\n      <td>$780,000,000</td>\n      <td>$780,000,000</td>\n      <td>Taylor Swift</td>\n      <td>The Eras Tour †</td>\n      <td>2023–2024</td>\n      <td>56</td>\n      <td>$13,928,571</td>\n      <td>[1]</td>\n    </tr>\n    <tr>\n      <th>1</th>\n      <td>2</td>\n      <td>1</td>\n      <td>7[2]</td>\n      <td>$579,800,000</td>\n      <td>$579,800,000</td>\n      <td>Beyoncé</td>\n      <td>Renaissance World Tour</td>\n      <td>2023</td>\n      <td>56</td>\n      <td>$10,353,571</td>\n      <td>[3]</td>\n    </tr>\n    <tr>\n      <th>2</th>\n      <td>3</td>\n      <td>1[4]</td>\n      <td>2[5]</td>\n      <td>$411,000,000</td>\n      <td>$560,622,615</td>\n      <td>Madonna</td>\n      <td>Sticky &amp; Sweet Tour ‡[4][a]</td>\n      <td>2008–2009</td>\n      <td>85</td>\n      <td>$4,835,294</td>\n      <td>[6]</td>\n    </tr>\n    <tr>\n      <th>3</th>\n      <td>4</td>\n      <td>2[7]</td>\n      <td>10[7]</td>\n      <td>$397,300,000</td>\n      <td>$454,751,555</td>\n      <td>Pink</td>\n      <td>Beautiful Trauma World Tour</td>\n      <td>2018–2019</td>\n      <td>156</td>\n      <td>$2,546,795</td>\n      <td>[7]</td>\n    </tr>\n    <tr>\n      <th>4</th>\n      <td>5</td>\n      <td>2[4]</td>\n      <td>NaN</td>\n      <td>$345,675,146</td>\n      <td>$402,844,849</td>\n      <td>Taylor Swift</td>\n      <td>Reputation Stadium Tour</td>\n      <td>2018</td>\n      <td>53</td>\n      <td>$6,522,173</td>\n      <td>[8]</td>\n    </tr>\n  </tbody>\n</table>\n</div>"
          },
          "metadata": {}
        }
      ],
      "execution_count": 73
    },
    {
      "id": "6d4a8f05-0583-4da4-90a1-e598f547f235",
      "cell_type": "code",
      "source": "df.shape",
      "metadata": {
        "trusted": true
      },
      "outputs": [
        {
          "execution_count": 74,
          "output_type": "execute_result",
          "data": {
            "text/plain": "(20, 11)"
          },
          "metadata": {}
        }
      ],
      "execution_count": 74
    },
    {
      "id": "a2059ba6-8ffd-4277-9cc4-ae36cf861536",
      "cell_type": "code",
      "source": "df.info()",
      "metadata": {
        "trusted": true
      },
      "outputs": [
        {
          "name": "stdout",
          "output_type": "stream",
          "text": "<class 'pandas.core.frame.DataFrame'>\nRangeIndex: 20 entries, 0 to 19\nData columns (total 11 columns):\n #   Column                            Non-Null Count  Dtype \n---  ------                            --------------  ----- \n 0   Rank                              20 non-null     int64 \n 1   Peak                              9 non-null      object\n 2   All Time Peak                     6 non-null      object\n 3   Actual gross                      20 non-null     object\n 4   Adjusted gross (in 2022 dollars)  20 non-null     object\n 5   Artist                            20 non-null     object\n 6   Tour title                        20 non-null     object\n 7   Year(s)                           20 non-null     object\n 8   Shows                             20 non-null     int64 \n 9   Average gross                     20 non-null     object\n 10  Ref.                              20 non-null     object\ndtypes: int64(2), object(9)\nmemory usage: 1.1+ KB\n"
        }
      ],
      "execution_count": 75
    },
    {
      "id": "9f3ecd74-e6db-48c5-a6a8-94c16494d63b",
      "cell_type": "code",
      "source": "#rename all columns\ndf.columns = ['Rank', 'Peak', 'All_Time_Peak', 'Actual_Gross', 'Adjusted_Gross', 'Artist', 'Tour_Title', 'Years', 'Shows', 'Average_Gross','Reference']",
      "metadata": {
        "trusted": true
      },
      "outputs": [],
      "execution_count": 76
    },
    {
      "id": "deac16c4-2e0c-4dbd-ac2b-2f4859e16c02",
      "cell_type": "code",
      "source": "df.head()",
      "metadata": {
        "trusted": true
      },
      "outputs": [
        {
          "execution_count": 77,
          "output_type": "execute_result",
          "data": {
            "text/plain": "   Rank  Peak All_Time_Peak  Actual_Gross Adjusted_Gross        Artist  \\\n0     1     1             2  $780,000,000   $780,000,000  Taylor Swift   \n1     2     1          7[2]  $579,800,000   $579,800,000       Beyoncé   \n2     3  1[4]          2[5]  $411,000,000   $560,622,615       Madonna   \n3     4  2[7]         10[7]  $397,300,000   $454,751,555          Pink   \n4     5  2[4]           NaN  $345,675,146   $402,844,849  Taylor Swift   \n\n                    Tour_Title      Years  Shows Average_Gross Reference  \n0              The Eras Tour †  2023–2024     56   $13,928,571       [1]  \n1       Renaissance World Tour       2023     56   $10,353,571       [3]  \n2  Sticky & Sweet Tour ‡[4][a]  2008–2009     85    $4,835,294       [6]  \n3  Beautiful Trauma World Tour  2018–2019    156    $2,546,795       [7]  \n4      Reputation Stadium Tour       2018     53    $6,522,173       [8]  ",
            "text/html": "<div>\n<style scoped>\n    .dataframe tbody tr th:only-of-type {\n        vertical-align: middle;\n    }\n\n    .dataframe tbody tr th {\n        vertical-align: top;\n    }\n\n    .dataframe thead th {\n        text-align: right;\n    }\n</style>\n<table border=\"1\" class=\"dataframe\">\n  <thead>\n    <tr style=\"text-align: right;\">\n      <th></th>\n      <th>Rank</th>\n      <th>Peak</th>\n      <th>All_Time_Peak</th>\n      <th>Actual_Gross</th>\n      <th>Adjusted_Gross</th>\n      <th>Artist</th>\n      <th>Tour_Title</th>\n      <th>Years</th>\n      <th>Shows</th>\n      <th>Average_Gross</th>\n      <th>Reference</th>\n    </tr>\n  </thead>\n  <tbody>\n    <tr>\n      <th>0</th>\n      <td>1</td>\n      <td>1</td>\n      <td>2</td>\n      <td>$780,000,000</td>\n      <td>$780,000,000</td>\n      <td>Taylor Swift</td>\n      <td>The Eras Tour †</td>\n      <td>2023–2024</td>\n      <td>56</td>\n      <td>$13,928,571</td>\n      <td>[1]</td>\n    </tr>\n    <tr>\n      <th>1</th>\n      <td>2</td>\n      <td>1</td>\n      <td>7[2]</td>\n      <td>$579,800,000</td>\n      <td>$579,800,000</td>\n      <td>Beyoncé</td>\n      <td>Renaissance World Tour</td>\n      <td>2023</td>\n      <td>56</td>\n      <td>$10,353,571</td>\n      <td>[3]</td>\n    </tr>\n    <tr>\n      <th>2</th>\n      <td>3</td>\n      <td>1[4]</td>\n      <td>2[5]</td>\n      <td>$411,000,000</td>\n      <td>$560,622,615</td>\n      <td>Madonna</td>\n      <td>Sticky &amp; Sweet Tour ‡[4][a]</td>\n      <td>2008–2009</td>\n      <td>85</td>\n      <td>$4,835,294</td>\n      <td>[6]</td>\n    </tr>\n    <tr>\n      <th>3</th>\n      <td>4</td>\n      <td>2[7]</td>\n      <td>10[7]</td>\n      <td>$397,300,000</td>\n      <td>$454,751,555</td>\n      <td>Pink</td>\n      <td>Beautiful Trauma World Tour</td>\n      <td>2018–2019</td>\n      <td>156</td>\n      <td>$2,546,795</td>\n      <td>[7]</td>\n    </tr>\n    <tr>\n      <th>4</th>\n      <td>5</td>\n      <td>2[4]</td>\n      <td>NaN</td>\n      <td>$345,675,146</td>\n      <td>$402,844,849</td>\n      <td>Taylor Swift</td>\n      <td>Reputation Stadium Tour</td>\n      <td>2018</td>\n      <td>53</td>\n      <td>$6,522,173</td>\n      <td>[8]</td>\n    </tr>\n  </tbody>\n</table>\n</div>"
          },
          "metadata": {}
        }
      ],
      "execution_count": 77
    },
    {
      "id": "5428ef2c-6ca2-447c-810e-2bd32c8de1ec",
      "cell_type": "code",
      "source": "#Remove all $ and commas from Gross Columns\ndf.Actual_Gross = df.Actual_Gross.replace('[\\$,]','', regex=True)\ndf.Adjusted_Gross = df.Adjusted_Gross.replace('[\\$,]','', regex=True)\ndf.Average_Gross = df.Average_Gross.replace('[\\$,]','', regex=True)",
      "metadata": {
        "trusted": true
      },
      "outputs": [
        {
          "name": "stderr",
          "output_type": "stream",
          "text": "<unknown>:2: SyntaxWarning: invalid escape sequence '\\$'\n<unknown>:3: SyntaxWarning: invalid escape sequence '\\$'\n<unknown>:4: SyntaxWarning: invalid escape sequence '\\$'\n<>:2: SyntaxWarning: invalid escape sequence '\\$'\n<>:3: SyntaxWarning: invalid escape sequence '\\$'\n<>:4: SyntaxWarning: invalid escape sequence '\\$'\n<>:2: SyntaxWarning: invalid escape sequence '\\$'\n<>:3: SyntaxWarning: invalid escape sequence '\\$'\n<>:4: SyntaxWarning: invalid escape sequence '\\$'\n<ipython-input-78-d77895df1dca>:2: SyntaxWarning: invalid escape sequence '\\$'\n  df.Actual_Gross = df.Actual_Gross.replace('[\\$,]','', regex=True)\n<ipython-input-78-d77895df1dca>:3: SyntaxWarning: invalid escape sequence '\\$'\n  df.Adjusted_Gross = df.Adjusted_Gross.replace('[\\$,]','', regex=True)\n<ipython-input-78-d77895df1dca>:4: SyntaxWarning: invalid escape sequence '\\$'\n  df.Average_Gross = df.Average_Gross.replace('[\\$,]','', regex=True)\n"
        }
      ],
      "execution_count": 78
    },
    {
      "id": "e5f11f97-bcc9-447a-8ab5-b30fdbc62186",
      "cell_type": "code",
      "source": "#errors were occurring when trying to convert data types so I increased the length of the list and found letters in the Actual_Gross column\ndf.head(20)",
      "metadata": {
        "trusted": true
      },
      "outputs": [
        {
          "execution_count": 79,
          "output_type": "execute_result",
          "data": {
            "text/plain": "    Rank   Peak All_Time_Peak  Actual_Gross Adjusted_Gross        Artist  \\\n0      1      1             2     780000000      780000000  Taylor Swift   \n1      2      1          7[2]     579800000      579800000       Beyoncé   \n2      3   1[4]          2[5]     411000000      560622615       Madonna   \n3      4   2[7]         10[7]     397300000      454751555          Pink   \n4      5   2[4]           NaN     345675146      402844849  Taylor Swift   \n5      6   2[4]         10[9]     305158363      388978496       Madonna   \n6      7  2[10]           NaN     280000000      381932682   Celine Dion   \n7      7    NaN           NaN     257600000      257600000          Pink   \n8      9    NaN           NaN     256084556      312258401       Beyoncé   \n9     10    NaN           NaN     250400000      309141878  Taylor Swift   \n10    11    NaN           NaN  229100000[b]      283202896       Beyoncé   \n11    12    NaN        14[17]     227400000      295301479     Lady Gaga   \n12    13    NaN           NaN     204000000      251856802    Katy Perry   \n13    14  1[20]           NaN     200000000      299676265          Cher   \n14    15   2[c]           NaN     194000000      281617035       Madonna   \n15    16    NaN           NaN     184000000      227452347          Pink   \n16    17    NaN           NaN     170000000      213568571     Lady Gaga   \n17    18    NaN           NaN     169800000      207046755       Madonna   \n18    19    NaN           NaN  167700000[e]      204486106         Adele   \n19    20    NaN           NaN     150000000      185423109  Taylor Swift   \n\n                                  Tour_Title      Years  Shows Average_Gross  \\\n0                            The Eras Tour †  2023–2024     56      13928571   \n1                     Renaissance World Tour       2023     56      10353571   \n2                Sticky & Sweet Tour ‡[4][a]  2008–2009     85       4835294   \n3                Beautiful Trauma World Tour  2018–2019    156       2546795   \n4                    Reputation Stadium Tour       2018     53       6522173   \n5                              The MDNA Tour       2012     88       3467709   \n6                  Taking Chances World Tour  2008–2009    131       2137405   \n7                          Summer Carnival †  2023–2024     41       6282927   \n8                   The Formation World Tour       2016     49       5226215   \n9                        The 1989 World Tour       2015     85       2945882   \n10           The Mrs. Carter Show World Tour  2013–2014    132       1735606   \n11                   The Monster Ball Tour *  2009–2011    203       1118227   \n12                      Prismatic World Tour  2014–2015    151       1350993   \n13  Living Proof: The Farewell Tour ‡[21][a]  2002–2005    325        615385   \n14                          Confessions Tour       2006     60       3233333   \n15                 The Truth About Love Tour  2013–2014    142       1295775   \n16                        Born This Way Ball  2012–2013     98       1734694   \n17                          Rebel Heart Tour  2015–2016     82       2070732   \n18                           Adele Live 2016  2016–2017    121       1385950   \n19                              The Red Tour  2013–2014     86       1744186   \n\n   Reference  \n0        [1]  \n1        [3]  \n2        [6]  \n3        [7]  \n4        [8]  \n5        [9]  \n6       [11]  \n7       [12]  \n8       [13]  \n9       [14]  \n10  [15][16]  \n11      [18]  \n12      [19]  \n13      [20]  \n14       [5]  \n15      [22]  \n16       [d]  \n17       [4]  \n18      [25]  \n19      [26]  ",
            "text/html": "<div>\n<style scoped>\n    .dataframe tbody tr th:only-of-type {\n        vertical-align: middle;\n    }\n\n    .dataframe tbody tr th {\n        vertical-align: top;\n    }\n\n    .dataframe thead th {\n        text-align: right;\n    }\n</style>\n<table border=\"1\" class=\"dataframe\">\n  <thead>\n    <tr style=\"text-align: right;\">\n      <th></th>\n      <th>Rank</th>\n      <th>Peak</th>\n      <th>All_Time_Peak</th>\n      <th>Actual_Gross</th>\n      <th>Adjusted_Gross</th>\n      <th>Artist</th>\n      <th>Tour_Title</th>\n      <th>Years</th>\n      <th>Shows</th>\n      <th>Average_Gross</th>\n      <th>Reference</th>\n    </tr>\n  </thead>\n  <tbody>\n    <tr>\n      <th>0</th>\n      <td>1</td>\n      <td>1</td>\n      <td>2</td>\n      <td>780000000</td>\n      <td>780000000</td>\n      <td>Taylor Swift</td>\n      <td>The Eras Tour †</td>\n      <td>2023–2024</td>\n      <td>56</td>\n      <td>13928571</td>\n      <td>[1]</td>\n    </tr>\n    <tr>\n      <th>1</th>\n      <td>2</td>\n      <td>1</td>\n      <td>7[2]</td>\n      <td>579800000</td>\n      <td>579800000</td>\n      <td>Beyoncé</td>\n      <td>Renaissance World Tour</td>\n      <td>2023</td>\n      <td>56</td>\n      <td>10353571</td>\n      <td>[3]</td>\n    </tr>\n    <tr>\n      <th>2</th>\n      <td>3</td>\n      <td>1[4]</td>\n      <td>2[5]</td>\n      <td>411000000</td>\n      <td>560622615</td>\n      <td>Madonna</td>\n      <td>Sticky &amp; Sweet Tour ‡[4][a]</td>\n      <td>2008–2009</td>\n      <td>85</td>\n      <td>4835294</td>\n      <td>[6]</td>\n    </tr>\n    <tr>\n      <th>3</th>\n      <td>4</td>\n      <td>2[7]</td>\n      <td>10[7]</td>\n      <td>397300000</td>\n      <td>454751555</td>\n      <td>Pink</td>\n      <td>Beautiful Trauma World Tour</td>\n      <td>2018–2019</td>\n      <td>156</td>\n      <td>2546795</td>\n      <td>[7]</td>\n    </tr>\n    <tr>\n      <th>4</th>\n      <td>5</td>\n      <td>2[4]</td>\n      <td>NaN</td>\n      <td>345675146</td>\n      <td>402844849</td>\n      <td>Taylor Swift</td>\n      <td>Reputation Stadium Tour</td>\n      <td>2018</td>\n      <td>53</td>\n      <td>6522173</td>\n      <td>[8]</td>\n    </tr>\n    <tr>\n      <th>5</th>\n      <td>6</td>\n      <td>2[4]</td>\n      <td>10[9]</td>\n      <td>305158363</td>\n      <td>388978496</td>\n      <td>Madonna</td>\n      <td>The MDNA Tour</td>\n      <td>2012</td>\n      <td>88</td>\n      <td>3467709</td>\n      <td>[9]</td>\n    </tr>\n    <tr>\n      <th>6</th>\n      <td>7</td>\n      <td>2[10]</td>\n      <td>NaN</td>\n      <td>280000000</td>\n      <td>381932682</td>\n      <td>Celine Dion</td>\n      <td>Taking Chances World Tour</td>\n      <td>2008–2009</td>\n      <td>131</td>\n      <td>2137405</td>\n      <td>[11]</td>\n    </tr>\n    <tr>\n      <th>7</th>\n      <td>7</td>\n      <td>NaN</td>\n      <td>NaN</td>\n      <td>257600000</td>\n      <td>257600000</td>\n      <td>Pink</td>\n      <td>Summer Carnival †</td>\n      <td>2023–2024</td>\n      <td>41</td>\n      <td>6282927</td>\n      <td>[12]</td>\n    </tr>\n    <tr>\n      <th>8</th>\n      <td>9</td>\n      <td>NaN</td>\n      <td>NaN</td>\n      <td>256084556</td>\n      <td>312258401</td>\n      <td>Beyoncé</td>\n      <td>The Formation World Tour</td>\n      <td>2016</td>\n      <td>49</td>\n      <td>5226215</td>\n      <td>[13]</td>\n    </tr>\n    <tr>\n      <th>9</th>\n      <td>10</td>\n      <td>NaN</td>\n      <td>NaN</td>\n      <td>250400000</td>\n      <td>309141878</td>\n      <td>Taylor Swift</td>\n      <td>The 1989 World Tour</td>\n      <td>2015</td>\n      <td>85</td>\n      <td>2945882</td>\n      <td>[14]</td>\n    </tr>\n    <tr>\n      <th>10</th>\n      <td>11</td>\n      <td>NaN</td>\n      <td>NaN</td>\n      <td>229100000[b]</td>\n      <td>283202896</td>\n      <td>Beyoncé</td>\n      <td>The Mrs. Carter Show World Tour</td>\n      <td>2013–2014</td>\n      <td>132</td>\n      <td>1735606</td>\n      <td>[15][16]</td>\n    </tr>\n    <tr>\n      <th>11</th>\n      <td>12</td>\n      <td>NaN</td>\n      <td>14[17]</td>\n      <td>227400000</td>\n      <td>295301479</td>\n      <td>Lady Gaga</td>\n      <td>The Monster Ball Tour *</td>\n      <td>2009–2011</td>\n      <td>203</td>\n      <td>1118227</td>\n      <td>[18]</td>\n    </tr>\n    <tr>\n      <th>12</th>\n      <td>13</td>\n      <td>NaN</td>\n      <td>NaN</td>\n      <td>204000000</td>\n      <td>251856802</td>\n      <td>Katy Perry</td>\n      <td>Prismatic World Tour</td>\n      <td>2014–2015</td>\n      <td>151</td>\n      <td>1350993</td>\n      <td>[19]</td>\n    </tr>\n    <tr>\n      <th>13</th>\n      <td>14</td>\n      <td>1[20]</td>\n      <td>NaN</td>\n      <td>200000000</td>\n      <td>299676265</td>\n      <td>Cher</td>\n      <td>Living Proof: The Farewell Tour ‡[21][a]</td>\n      <td>2002–2005</td>\n      <td>325</td>\n      <td>615385</td>\n      <td>[20]</td>\n    </tr>\n    <tr>\n      <th>14</th>\n      <td>15</td>\n      <td>2[c]</td>\n      <td>NaN</td>\n      <td>194000000</td>\n      <td>281617035</td>\n      <td>Madonna</td>\n      <td>Confessions Tour</td>\n      <td>2006</td>\n      <td>60</td>\n      <td>3233333</td>\n      <td>[5]</td>\n    </tr>\n    <tr>\n      <th>15</th>\n      <td>16</td>\n      <td>NaN</td>\n      <td>NaN</td>\n      <td>184000000</td>\n      <td>227452347</td>\n      <td>Pink</td>\n      <td>The Truth About Love Tour</td>\n      <td>2013–2014</td>\n      <td>142</td>\n      <td>1295775</td>\n      <td>[22]</td>\n    </tr>\n    <tr>\n      <th>16</th>\n      <td>17</td>\n      <td>NaN</td>\n      <td>NaN</td>\n      <td>170000000</td>\n      <td>213568571</td>\n      <td>Lady Gaga</td>\n      <td>Born This Way Ball</td>\n      <td>2012–2013</td>\n      <td>98</td>\n      <td>1734694</td>\n      <td>[d]</td>\n    </tr>\n    <tr>\n      <th>17</th>\n      <td>18</td>\n      <td>NaN</td>\n      <td>NaN</td>\n      <td>169800000</td>\n      <td>207046755</td>\n      <td>Madonna</td>\n      <td>Rebel Heart Tour</td>\n      <td>2015–2016</td>\n      <td>82</td>\n      <td>2070732</td>\n      <td>[4]</td>\n    </tr>\n    <tr>\n      <th>18</th>\n      <td>19</td>\n      <td>NaN</td>\n      <td>NaN</td>\n      <td>167700000[e]</td>\n      <td>204486106</td>\n      <td>Adele</td>\n      <td>Adele Live 2016</td>\n      <td>2016–2017</td>\n      <td>121</td>\n      <td>1385950</td>\n      <td>[25]</td>\n    </tr>\n    <tr>\n      <th>19</th>\n      <td>20</td>\n      <td>NaN</td>\n      <td>NaN</td>\n      <td>150000000</td>\n      <td>185423109</td>\n      <td>Taylor Swift</td>\n      <td>The Red Tour</td>\n      <td>2013–2014</td>\n      <td>86</td>\n      <td>1744186</td>\n      <td>[26]</td>\n    </tr>\n  </tbody>\n</table>\n</div>"
          },
          "metadata": {}
        }
      ],
      "execution_count": 79
    },
    {
      "id": "d4405ef2-3d93-4e2c-a86b-45135569366c",
      "cell_type": "code",
      "source": "#Remove letters from Actual_Gross\ndf['Actual_Gross'] = df['Actual_Gross'].str.replace(r'[a-zA-Z]', '', regex=True)",
      "metadata": {
        "trusted": true
      },
      "outputs": [],
      "execution_count": 80
    },
    {
      "id": "569bc7fe-a091-4d76-824e-ad798b9d258c",
      "cell_type": "code",
      "source": "df['Actual_Gross'] = df['Actual_Gross'].str.replace(r'\\D', '', regex=True)",
      "metadata": {
        "trusted": true
      },
      "outputs": [],
      "execution_count": 81
    },
    {
      "id": "a34c96b6-b1d0-47b6-bd09-14ba38406833",
      "cell_type": "code",
      "source": "#convert data types\ndf['Actual_Gross'] = df['Actual_Gross'].astype(float)\ndf.Adjusted_Gross = df.Adjusted_Gross.astype(float)\ndf.Average_Gross = df.Average_Gross.astype(float)",
      "metadata": {
        "trusted": true
      },
      "outputs": [],
      "execution_count": 82
    },
    {
      "id": "b4edb0a0-5446-40ef-a3ba-dec429cf309e",
      "cell_type": "code",
      "source": "df.head(20)",
      "metadata": {
        "trusted": true
      },
      "outputs": [
        {
          "execution_count": 83,
          "output_type": "execute_result",
          "data": {
            "text/plain": "    Rank   Peak All_Time_Peak  Actual_Gross  Adjusted_Gross        Artist  \\\n0      1      1             2   780000000.0     780000000.0  Taylor Swift   \n1      2      1          7[2]   579800000.0     579800000.0       Beyoncé   \n2      3   1[4]          2[5]   411000000.0     560622615.0       Madonna   \n3      4   2[7]         10[7]   397300000.0     454751555.0          Pink   \n4      5   2[4]           NaN   345675146.0     402844849.0  Taylor Swift   \n5      6   2[4]         10[9]   305158363.0     388978496.0       Madonna   \n6      7  2[10]           NaN   280000000.0     381932682.0   Celine Dion   \n7      7    NaN           NaN   257600000.0     257600000.0          Pink   \n8      9    NaN           NaN   256084556.0     312258401.0       Beyoncé   \n9     10    NaN           NaN   250400000.0     309141878.0  Taylor Swift   \n10    11    NaN           NaN   229100000.0     283202896.0       Beyoncé   \n11    12    NaN        14[17]   227400000.0     295301479.0     Lady Gaga   \n12    13    NaN           NaN   204000000.0     251856802.0    Katy Perry   \n13    14  1[20]           NaN   200000000.0     299676265.0          Cher   \n14    15   2[c]           NaN   194000000.0     281617035.0       Madonna   \n15    16    NaN           NaN   184000000.0     227452347.0          Pink   \n16    17    NaN           NaN   170000000.0     213568571.0     Lady Gaga   \n17    18    NaN           NaN   169800000.0     207046755.0       Madonna   \n18    19    NaN           NaN   167700000.0     204486106.0         Adele   \n19    20    NaN           NaN   150000000.0     185423109.0  Taylor Swift   \n\n                                  Tour_Title      Years  Shows  Average_Gross  \\\n0                            The Eras Tour †  2023–2024     56     13928571.0   \n1                     Renaissance World Tour       2023     56     10353571.0   \n2                Sticky & Sweet Tour ‡[4][a]  2008–2009     85      4835294.0   \n3                Beautiful Trauma World Tour  2018–2019    156      2546795.0   \n4                    Reputation Stadium Tour       2018     53      6522173.0   \n5                              The MDNA Tour       2012     88      3467709.0   \n6                  Taking Chances World Tour  2008–2009    131      2137405.0   \n7                          Summer Carnival †  2023–2024     41      6282927.0   \n8                   The Formation World Tour       2016     49      5226215.0   \n9                        The 1989 World Tour       2015     85      2945882.0   \n10           The Mrs. Carter Show World Tour  2013–2014    132      1735606.0   \n11                   The Monster Ball Tour *  2009–2011    203      1118227.0   \n12                      Prismatic World Tour  2014–2015    151      1350993.0   \n13  Living Proof: The Farewell Tour ‡[21][a]  2002–2005    325       615385.0   \n14                          Confessions Tour       2006     60      3233333.0   \n15                 The Truth About Love Tour  2013–2014    142      1295775.0   \n16                        Born This Way Ball  2012–2013     98      1734694.0   \n17                          Rebel Heart Tour  2015–2016     82      2070732.0   \n18                           Adele Live 2016  2016–2017    121      1385950.0   \n19                              The Red Tour  2013–2014     86      1744186.0   \n\n   Reference  \n0        [1]  \n1        [3]  \n2        [6]  \n3        [7]  \n4        [8]  \n5        [9]  \n6       [11]  \n7       [12]  \n8       [13]  \n9       [14]  \n10  [15][16]  \n11      [18]  \n12      [19]  \n13      [20]  \n14       [5]  \n15      [22]  \n16       [d]  \n17       [4]  \n18      [25]  \n19      [26]  ",
            "text/html": "<div>\n<style scoped>\n    .dataframe tbody tr th:only-of-type {\n        vertical-align: middle;\n    }\n\n    .dataframe tbody tr th {\n        vertical-align: top;\n    }\n\n    .dataframe thead th {\n        text-align: right;\n    }\n</style>\n<table border=\"1\" class=\"dataframe\">\n  <thead>\n    <tr style=\"text-align: right;\">\n      <th></th>\n      <th>Rank</th>\n      <th>Peak</th>\n      <th>All_Time_Peak</th>\n      <th>Actual_Gross</th>\n      <th>Adjusted_Gross</th>\n      <th>Artist</th>\n      <th>Tour_Title</th>\n      <th>Years</th>\n      <th>Shows</th>\n      <th>Average_Gross</th>\n      <th>Reference</th>\n    </tr>\n  </thead>\n  <tbody>\n    <tr>\n      <th>0</th>\n      <td>1</td>\n      <td>1</td>\n      <td>2</td>\n      <td>780000000.0</td>\n      <td>780000000.0</td>\n      <td>Taylor Swift</td>\n      <td>The Eras Tour †</td>\n      <td>2023–2024</td>\n      <td>56</td>\n      <td>13928571.0</td>\n      <td>[1]</td>\n    </tr>\n    <tr>\n      <th>1</th>\n      <td>2</td>\n      <td>1</td>\n      <td>7[2]</td>\n      <td>579800000.0</td>\n      <td>579800000.0</td>\n      <td>Beyoncé</td>\n      <td>Renaissance World Tour</td>\n      <td>2023</td>\n      <td>56</td>\n      <td>10353571.0</td>\n      <td>[3]</td>\n    </tr>\n    <tr>\n      <th>2</th>\n      <td>3</td>\n      <td>1[4]</td>\n      <td>2[5]</td>\n      <td>411000000.0</td>\n      <td>560622615.0</td>\n      <td>Madonna</td>\n      <td>Sticky &amp; Sweet Tour ‡[4][a]</td>\n      <td>2008–2009</td>\n      <td>85</td>\n      <td>4835294.0</td>\n      <td>[6]</td>\n    </tr>\n    <tr>\n      <th>3</th>\n      <td>4</td>\n      <td>2[7]</td>\n      <td>10[7]</td>\n      <td>397300000.0</td>\n      <td>454751555.0</td>\n      <td>Pink</td>\n      <td>Beautiful Trauma World Tour</td>\n      <td>2018–2019</td>\n      <td>156</td>\n      <td>2546795.0</td>\n      <td>[7]</td>\n    </tr>\n    <tr>\n      <th>4</th>\n      <td>5</td>\n      <td>2[4]</td>\n      <td>NaN</td>\n      <td>345675146.0</td>\n      <td>402844849.0</td>\n      <td>Taylor Swift</td>\n      <td>Reputation Stadium Tour</td>\n      <td>2018</td>\n      <td>53</td>\n      <td>6522173.0</td>\n      <td>[8]</td>\n    </tr>\n    <tr>\n      <th>5</th>\n      <td>6</td>\n      <td>2[4]</td>\n      <td>10[9]</td>\n      <td>305158363.0</td>\n      <td>388978496.0</td>\n      <td>Madonna</td>\n      <td>The MDNA Tour</td>\n      <td>2012</td>\n      <td>88</td>\n      <td>3467709.0</td>\n      <td>[9]</td>\n    </tr>\n    <tr>\n      <th>6</th>\n      <td>7</td>\n      <td>2[10]</td>\n      <td>NaN</td>\n      <td>280000000.0</td>\n      <td>381932682.0</td>\n      <td>Celine Dion</td>\n      <td>Taking Chances World Tour</td>\n      <td>2008–2009</td>\n      <td>131</td>\n      <td>2137405.0</td>\n      <td>[11]</td>\n    </tr>\n    <tr>\n      <th>7</th>\n      <td>7</td>\n      <td>NaN</td>\n      <td>NaN</td>\n      <td>257600000.0</td>\n      <td>257600000.0</td>\n      <td>Pink</td>\n      <td>Summer Carnival †</td>\n      <td>2023–2024</td>\n      <td>41</td>\n      <td>6282927.0</td>\n      <td>[12]</td>\n    </tr>\n    <tr>\n      <th>8</th>\n      <td>9</td>\n      <td>NaN</td>\n      <td>NaN</td>\n      <td>256084556.0</td>\n      <td>312258401.0</td>\n      <td>Beyoncé</td>\n      <td>The Formation World Tour</td>\n      <td>2016</td>\n      <td>49</td>\n      <td>5226215.0</td>\n      <td>[13]</td>\n    </tr>\n    <tr>\n      <th>9</th>\n      <td>10</td>\n      <td>NaN</td>\n      <td>NaN</td>\n      <td>250400000.0</td>\n      <td>309141878.0</td>\n      <td>Taylor Swift</td>\n      <td>The 1989 World Tour</td>\n      <td>2015</td>\n      <td>85</td>\n      <td>2945882.0</td>\n      <td>[14]</td>\n    </tr>\n    <tr>\n      <th>10</th>\n      <td>11</td>\n      <td>NaN</td>\n      <td>NaN</td>\n      <td>229100000.0</td>\n      <td>283202896.0</td>\n      <td>Beyoncé</td>\n      <td>The Mrs. Carter Show World Tour</td>\n      <td>2013–2014</td>\n      <td>132</td>\n      <td>1735606.0</td>\n      <td>[15][16]</td>\n    </tr>\n    <tr>\n      <th>11</th>\n      <td>12</td>\n      <td>NaN</td>\n      <td>14[17]</td>\n      <td>227400000.0</td>\n      <td>295301479.0</td>\n      <td>Lady Gaga</td>\n      <td>The Monster Ball Tour *</td>\n      <td>2009–2011</td>\n      <td>203</td>\n      <td>1118227.0</td>\n      <td>[18]</td>\n    </tr>\n    <tr>\n      <th>12</th>\n      <td>13</td>\n      <td>NaN</td>\n      <td>NaN</td>\n      <td>204000000.0</td>\n      <td>251856802.0</td>\n      <td>Katy Perry</td>\n      <td>Prismatic World Tour</td>\n      <td>2014–2015</td>\n      <td>151</td>\n      <td>1350993.0</td>\n      <td>[19]</td>\n    </tr>\n    <tr>\n      <th>13</th>\n      <td>14</td>\n      <td>1[20]</td>\n      <td>NaN</td>\n      <td>200000000.0</td>\n      <td>299676265.0</td>\n      <td>Cher</td>\n      <td>Living Proof: The Farewell Tour ‡[21][a]</td>\n      <td>2002–2005</td>\n      <td>325</td>\n      <td>615385.0</td>\n      <td>[20]</td>\n    </tr>\n    <tr>\n      <th>14</th>\n      <td>15</td>\n      <td>2[c]</td>\n      <td>NaN</td>\n      <td>194000000.0</td>\n      <td>281617035.0</td>\n      <td>Madonna</td>\n      <td>Confessions Tour</td>\n      <td>2006</td>\n      <td>60</td>\n      <td>3233333.0</td>\n      <td>[5]</td>\n    </tr>\n    <tr>\n      <th>15</th>\n      <td>16</td>\n      <td>NaN</td>\n      <td>NaN</td>\n      <td>184000000.0</td>\n      <td>227452347.0</td>\n      <td>Pink</td>\n      <td>The Truth About Love Tour</td>\n      <td>2013–2014</td>\n      <td>142</td>\n      <td>1295775.0</td>\n      <td>[22]</td>\n    </tr>\n    <tr>\n      <th>16</th>\n      <td>17</td>\n      <td>NaN</td>\n      <td>NaN</td>\n      <td>170000000.0</td>\n      <td>213568571.0</td>\n      <td>Lady Gaga</td>\n      <td>Born This Way Ball</td>\n      <td>2012–2013</td>\n      <td>98</td>\n      <td>1734694.0</td>\n      <td>[d]</td>\n    </tr>\n    <tr>\n      <th>17</th>\n      <td>18</td>\n      <td>NaN</td>\n      <td>NaN</td>\n      <td>169800000.0</td>\n      <td>207046755.0</td>\n      <td>Madonna</td>\n      <td>Rebel Heart Tour</td>\n      <td>2015–2016</td>\n      <td>82</td>\n      <td>2070732.0</td>\n      <td>[4]</td>\n    </tr>\n    <tr>\n      <th>18</th>\n      <td>19</td>\n      <td>NaN</td>\n      <td>NaN</td>\n      <td>167700000.0</td>\n      <td>204486106.0</td>\n      <td>Adele</td>\n      <td>Adele Live 2016</td>\n      <td>2016–2017</td>\n      <td>121</td>\n      <td>1385950.0</td>\n      <td>[25]</td>\n    </tr>\n    <tr>\n      <th>19</th>\n      <td>20</td>\n      <td>NaN</td>\n      <td>NaN</td>\n      <td>150000000.0</td>\n      <td>185423109.0</td>\n      <td>Taylor Swift</td>\n      <td>The Red Tour</td>\n      <td>2013–2014</td>\n      <td>86</td>\n      <td>1744186.0</td>\n      <td>[26]</td>\n    </tr>\n  </tbody>\n</table>\n</div>"
          },
          "metadata": {}
        }
      ],
      "execution_count": 83
    },
    {
      "id": "a5815cc5-438b-4dbe-a463-2de189052bd2",
      "cell_type": "code",
      "source": "df.info()",
      "metadata": {
        "trusted": true
      },
      "outputs": [
        {
          "name": "stdout",
          "output_type": "stream",
          "text": "<class 'pandas.core.frame.DataFrame'>\nRangeIndex: 20 entries, 0 to 19\nData columns (total 11 columns):\n #   Column          Non-Null Count  Dtype  \n---  ------          --------------  -----  \n 0   Rank            20 non-null     int64  \n 1   Peak            9 non-null      object \n 2   All_Time_Peak   6 non-null      object \n 3   Actual_Gross    20 non-null     float64\n 4   Adjusted_Gross  20 non-null     float64\n 5   Artist          20 non-null     object \n 6   Tour_Title      20 non-null     object \n 7   Years           20 non-null     object \n 8   Shows           20 non-null     int64  \n 9   Average_Gross   20 non-null     float64\n 10  Reference       20 non-null     object \ndtypes: float64(3), int64(2), object(6)\nmemory usage: 1.3+ KB\n"
        }
      ],
      "execution_count": 84
    },
    {
      "id": "91fe057e-6384-4ad7-9beb-37cd80b16dad",
      "cell_type": "code",
      "source": "#Columns Peak and All_Time_Peak are mostly empty and the data that is in there is confusing\n#Therefore, I removed them since they add little value to this dataset\ndf.drop('Peak', axis=1, inplace=True)",
      "metadata": {
        "trusted": true
      },
      "outputs": [],
      "execution_count": 85
    },
    {
      "id": "75b709d2-3eef-4ec3-b7d7-c6d72c7ab506",
      "cell_type": "code",
      "source": "df.drop('All_Time_Peak', axis=1, inplace=True)",
      "metadata": {
        "trusted": true
      },
      "outputs": [],
      "execution_count": 86
    },
    {
      "id": "f0beb5d1-359e-41c1-bdf2-d10f2012f2bc",
      "cell_type": "code",
      "source": "df.head()",
      "metadata": {
        "trusted": true
      },
      "outputs": [
        {
          "execution_count": 87,
          "output_type": "execute_result",
          "data": {
            "text/plain": "   Rank  Actual_Gross  Adjusted_Gross        Artist  \\\n0     1   780000000.0     780000000.0  Taylor Swift   \n1     2   579800000.0     579800000.0       Beyoncé   \n2     3   411000000.0     560622615.0       Madonna   \n3     4   397300000.0     454751555.0          Pink   \n4     5   345675146.0     402844849.0  Taylor Swift   \n\n                    Tour_Title      Years  Shows  Average_Gross Reference  \n0              The Eras Tour †  2023–2024     56     13928571.0       [1]  \n1       Renaissance World Tour       2023     56     10353571.0       [3]  \n2  Sticky & Sweet Tour ‡[4][a]  2008–2009     85      4835294.0       [6]  \n3  Beautiful Trauma World Tour  2018–2019    156      2546795.0       [7]  \n4      Reputation Stadium Tour       2018     53      6522173.0       [8]  ",
            "text/html": "<div>\n<style scoped>\n    .dataframe tbody tr th:only-of-type {\n        vertical-align: middle;\n    }\n\n    .dataframe tbody tr th {\n        vertical-align: top;\n    }\n\n    .dataframe thead th {\n        text-align: right;\n    }\n</style>\n<table border=\"1\" class=\"dataframe\">\n  <thead>\n    <tr style=\"text-align: right;\">\n      <th></th>\n      <th>Rank</th>\n      <th>Actual_Gross</th>\n      <th>Adjusted_Gross</th>\n      <th>Artist</th>\n      <th>Tour_Title</th>\n      <th>Years</th>\n      <th>Shows</th>\n      <th>Average_Gross</th>\n      <th>Reference</th>\n    </tr>\n  </thead>\n  <tbody>\n    <tr>\n      <th>0</th>\n      <td>1</td>\n      <td>780000000.0</td>\n      <td>780000000.0</td>\n      <td>Taylor Swift</td>\n      <td>The Eras Tour †</td>\n      <td>2023–2024</td>\n      <td>56</td>\n      <td>13928571.0</td>\n      <td>[1]</td>\n    </tr>\n    <tr>\n      <th>1</th>\n      <td>2</td>\n      <td>579800000.0</td>\n      <td>579800000.0</td>\n      <td>Beyoncé</td>\n      <td>Renaissance World Tour</td>\n      <td>2023</td>\n      <td>56</td>\n      <td>10353571.0</td>\n      <td>[3]</td>\n    </tr>\n    <tr>\n      <th>2</th>\n      <td>3</td>\n      <td>411000000.0</td>\n      <td>560622615.0</td>\n      <td>Madonna</td>\n      <td>Sticky &amp; Sweet Tour ‡[4][a]</td>\n      <td>2008–2009</td>\n      <td>85</td>\n      <td>4835294.0</td>\n      <td>[6]</td>\n    </tr>\n    <tr>\n      <th>3</th>\n      <td>4</td>\n      <td>397300000.0</td>\n      <td>454751555.0</td>\n      <td>Pink</td>\n      <td>Beautiful Trauma World Tour</td>\n      <td>2018–2019</td>\n      <td>156</td>\n      <td>2546795.0</td>\n      <td>[7]</td>\n    </tr>\n    <tr>\n      <th>4</th>\n      <td>5</td>\n      <td>345675146.0</td>\n      <td>402844849.0</td>\n      <td>Taylor Swift</td>\n      <td>Reputation Stadium Tour</td>\n      <td>2018</td>\n      <td>53</td>\n      <td>6522173.0</td>\n      <td>[8]</td>\n    </tr>\n  </tbody>\n</table>\n</div>"
          },
          "metadata": {}
        }
      ],
      "execution_count": 87
    },
    {
      "id": "cbf53ff6-d24b-4299-9931-902321c18253",
      "cell_type": "code",
      "source": "#Create two new columns from Years including start and end year \ndf['Start_Year'] = df['Years'].str[:4]\ndf['End_Year'] = df['Years'].str[-4:]",
      "metadata": {
        "trusted": true
      },
      "outputs": [],
      "execution_count": 88
    },
    {
      "id": "dc42fe1e-9215-4364-9c84-3c912cd75604",
      "cell_type": "code",
      "source": "df.head()",
      "metadata": {
        "trusted": true
      },
      "outputs": [
        {
          "execution_count": 89,
          "output_type": "execute_result",
          "data": {
            "text/plain": "   Rank  Actual_Gross  Adjusted_Gross        Artist  \\\n0     1   780000000.0     780000000.0  Taylor Swift   \n1     2   579800000.0     579800000.0       Beyoncé   \n2     3   411000000.0     560622615.0       Madonna   \n3     4   397300000.0     454751555.0          Pink   \n4     5   345675146.0     402844849.0  Taylor Swift   \n\n                    Tour_Title      Years  Shows  Average_Gross Reference  \\\n0              The Eras Tour †  2023–2024     56     13928571.0       [1]   \n1       Renaissance World Tour       2023     56     10353571.0       [3]   \n2  Sticky & Sweet Tour ‡[4][a]  2008–2009     85      4835294.0       [6]   \n3  Beautiful Trauma World Tour  2018–2019    156      2546795.0       [7]   \n4      Reputation Stadium Tour       2018     53      6522173.0       [8]   \n\n  Start_Year End_Year  \n0       2023     2024  \n1       2023     2023  \n2       2008     2009  \n3       2018     2019  \n4       2018     2018  ",
            "text/html": "<div>\n<style scoped>\n    .dataframe tbody tr th:only-of-type {\n        vertical-align: middle;\n    }\n\n    .dataframe tbody tr th {\n        vertical-align: top;\n    }\n\n    .dataframe thead th {\n        text-align: right;\n    }\n</style>\n<table border=\"1\" class=\"dataframe\">\n  <thead>\n    <tr style=\"text-align: right;\">\n      <th></th>\n      <th>Rank</th>\n      <th>Actual_Gross</th>\n      <th>Adjusted_Gross</th>\n      <th>Artist</th>\n      <th>Tour_Title</th>\n      <th>Years</th>\n      <th>Shows</th>\n      <th>Average_Gross</th>\n      <th>Reference</th>\n      <th>Start_Year</th>\n      <th>End_Year</th>\n    </tr>\n  </thead>\n  <tbody>\n    <tr>\n      <th>0</th>\n      <td>1</td>\n      <td>780000000.0</td>\n      <td>780000000.0</td>\n      <td>Taylor Swift</td>\n      <td>The Eras Tour †</td>\n      <td>2023–2024</td>\n      <td>56</td>\n      <td>13928571.0</td>\n      <td>[1]</td>\n      <td>2023</td>\n      <td>2024</td>\n    </tr>\n    <tr>\n      <th>1</th>\n      <td>2</td>\n      <td>579800000.0</td>\n      <td>579800000.0</td>\n      <td>Beyoncé</td>\n      <td>Renaissance World Tour</td>\n      <td>2023</td>\n      <td>56</td>\n      <td>10353571.0</td>\n      <td>[3]</td>\n      <td>2023</td>\n      <td>2023</td>\n    </tr>\n    <tr>\n      <th>2</th>\n      <td>3</td>\n      <td>411000000.0</td>\n      <td>560622615.0</td>\n      <td>Madonna</td>\n      <td>Sticky &amp; Sweet Tour ‡[4][a]</td>\n      <td>2008–2009</td>\n      <td>85</td>\n      <td>4835294.0</td>\n      <td>[6]</td>\n      <td>2008</td>\n      <td>2009</td>\n    </tr>\n    <tr>\n      <th>3</th>\n      <td>4</td>\n      <td>397300000.0</td>\n      <td>454751555.0</td>\n      <td>Pink</td>\n      <td>Beautiful Trauma World Tour</td>\n      <td>2018–2019</td>\n      <td>156</td>\n      <td>2546795.0</td>\n      <td>[7]</td>\n      <td>2018</td>\n      <td>2019</td>\n    </tr>\n    <tr>\n      <th>4</th>\n      <td>5</td>\n      <td>345675146.0</td>\n      <td>402844849.0</td>\n      <td>Taylor Swift</td>\n      <td>Reputation Stadium Tour</td>\n      <td>2018</td>\n      <td>53</td>\n      <td>6522173.0</td>\n      <td>[8]</td>\n      <td>2018</td>\n      <td>2018</td>\n    </tr>\n  </tbody>\n</table>\n</div>"
          },
          "metadata": {}
        }
      ],
      "execution_count": 89
    },
    {
      "id": "bdca92f0-da37-4ea7-ac08-7a50cbe256b1",
      "cell_type": "code",
      "source": "#convert to integers\ndf['Start_Year'] = df['Start_Year'].astype('int64')\ndf['End_Year'] = df['End_Year'].astype('int64')",
      "metadata": {
        "trusted": true
      },
      "outputs": [],
      "execution_count": 90
    },
    {
      "id": "0f473361-7f56-4f8f-b02e-57b35d807c3b",
      "cell_type": "code",
      "source": "#new column with total years touring\n#Since months are not included we do not know the exact number of years so I just included the maxed potenial of years\ndf['Total_Years']=(df['End_Year']-df['Start_Year']+1)",
      "metadata": {
        "trusted": true
      },
      "outputs": [],
      "execution_count": 91
    },
    {
      "id": "6187f04d-7cbf-46a2-9b2f-acc2f32c58a2",
      "cell_type": "code",
      "source": "df.head()",
      "metadata": {
        "trusted": true
      },
      "outputs": [
        {
          "execution_count": 92,
          "output_type": "execute_result",
          "data": {
            "text/plain": "   Rank  Actual_Gross  Adjusted_Gross        Artist  \\\n0     1   780000000.0     780000000.0  Taylor Swift   \n1     2   579800000.0     579800000.0       Beyoncé   \n2     3   411000000.0     560622615.0       Madonna   \n3     4   397300000.0     454751555.0          Pink   \n4     5   345675146.0     402844849.0  Taylor Swift   \n\n                    Tour_Title      Years  Shows  Average_Gross Reference  \\\n0              The Eras Tour †  2023–2024     56     13928571.0       [1]   \n1       Renaissance World Tour       2023     56     10353571.0       [3]   \n2  Sticky & Sweet Tour ‡[4][a]  2008–2009     85      4835294.0       [6]   \n3  Beautiful Trauma World Tour  2018–2019    156      2546795.0       [7]   \n4      Reputation Stadium Tour       2018     53      6522173.0       [8]   \n\n   Start_Year  End_Year  Total_Years  \n0        2023      2024            2  \n1        2023      2023            1  \n2        2008      2009            2  \n3        2018      2019            2  \n4        2018      2018            1  ",
            "text/html": "<div>\n<style scoped>\n    .dataframe tbody tr th:only-of-type {\n        vertical-align: middle;\n    }\n\n    .dataframe tbody tr th {\n        vertical-align: top;\n    }\n\n    .dataframe thead th {\n        text-align: right;\n    }\n</style>\n<table border=\"1\" class=\"dataframe\">\n  <thead>\n    <tr style=\"text-align: right;\">\n      <th></th>\n      <th>Rank</th>\n      <th>Actual_Gross</th>\n      <th>Adjusted_Gross</th>\n      <th>Artist</th>\n      <th>Tour_Title</th>\n      <th>Years</th>\n      <th>Shows</th>\n      <th>Average_Gross</th>\n      <th>Reference</th>\n      <th>Start_Year</th>\n      <th>End_Year</th>\n      <th>Total_Years</th>\n    </tr>\n  </thead>\n  <tbody>\n    <tr>\n      <th>0</th>\n      <td>1</td>\n      <td>780000000.0</td>\n      <td>780000000.0</td>\n      <td>Taylor Swift</td>\n      <td>The Eras Tour †</td>\n      <td>2023–2024</td>\n      <td>56</td>\n      <td>13928571.0</td>\n      <td>[1]</td>\n      <td>2023</td>\n      <td>2024</td>\n      <td>2</td>\n    </tr>\n    <tr>\n      <th>1</th>\n      <td>2</td>\n      <td>579800000.0</td>\n      <td>579800000.0</td>\n      <td>Beyoncé</td>\n      <td>Renaissance World Tour</td>\n      <td>2023</td>\n      <td>56</td>\n      <td>10353571.0</td>\n      <td>[3]</td>\n      <td>2023</td>\n      <td>2023</td>\n      <td>1</td>\n    </tr>\n    <tr>\n      <th>2</th>\n      <td>3</td>\n      <td>411000000.0</td>\n      <td>560622615.0</td>\n      <td>Madonna</td>\n      <td>Sticky &amp; Sweet Tour ‡[4][a]</td>\n      <td>2008–2009</td>\n      <td>85</td>\n      <td>4835294.0</td>\n      <td>[6]</td>\n      <td>2008</td>\n      <td>2009</td>\n      <td>2</td>\n    </tr>\n    <tr>\n      <th>3</th>\n      <td>4</td>\n      <td>397300000.0</td>\n      <td>454751555.0</td>\n      <td>Pink</td>\n      <td>Beautiful Trauma World Tour</td>\n      <td>2018–2019</td>\n      <td>156</td>\n      <td>2546795.0</td>\n      <td>[7]</td>\n      <td>2018</td>\n      <td>2019</td>\n      <td>2</td>\n    </tr>\n    <tr>\n      <th>4</th>\n      <td>5</td>\n      <td>345675146.0</td>\n      <td>402844849.0</td>\n      <td>Taylor Swift</td>\n      <td>Reputation Stadium Tour</td>\n      <td>2018</td>\n      <td>53</td>\n      <td>6522173.0</td>\n      <td>[8]</td>\n      <td>2018</td>\n      <td>2018</td>\n      <td>1</td>\n    </tr>\n  </tbody>\n</table>\n</div>"
          },
          "metadata": {}
        }
      ],
      "execution_count": 92
    },
    {
      "id": "11af49fb-5949-4a0b-9aba-06f5d8d3db74",
      "cell_type": "code",
      "source": "#I no longer need this column\ndf.drop('Years', axis=1, inplace=True)",
      "metadata": {
        "trusted": true
      },
      "outputs": [],
      "execution_count": 93
    },
    {
      "id": "be0ac4c4-f371-43b3-a76e-96411050939b",
      "cell_type": "code",
      "source": "df.head()",
      "metadata": {
        "trusted": true
      },
      "outputs": [
        {
          "execution_count": 94,
          "output_type": "execute_result",
          "data": {
            "text/plain": "   Rank  Actual_Gross  Adjusted_Gross        Artist  \\\n0     1   780000000.0     780000000.0  Taylor Swift   \n1     2   579800000.0     579800000.0       Beyoncé   \n2     3   411000000.0     560622615.0       Madonna   \n3     4   397300000.0     454751555.0          Pink   \n4     5   345675146.0     402844849.0  Taylor Swift   \n\n                    Tour_Title  Shows  Average_Gross Reference  Start_Year  \\\n0              The Eras Tour †     56     13928571.0       [1]        2023   \n1       Renaissance World Tour     56     10353571.0       [3]        2023   \n2  Sticky & Sweet Tour ‡[4][a]     85      4835294.0       [6]        2008   \n3  Beautiful Trauma World Tour    156      2546795.0       [7]        2018   \n4      Reputation Stadium Tour     53      6522173.0       [8]        2018   \n\n   End_Year  Total_Years  \n0      2024            2  \n1      2023            1  \n2      2009            2  \n3      2019            2  \n4      2018            1  ",
            "text/html": "<div>\n<style scoped>\n    .dataframe tbody tr th:only-of-type {\n        vertical-align: middle;\n    }\n\n    .dataframe tbody tr th {\n        vertical-align: top;\n    }\n\n    .dataframe thead th {\n        text-align: right;\n    }\n</style>\n<table border=\"1\" class=\"dataframe\">\n  <thead>\n    <tr style=\"text-align: right;\">\n      <th></th>\n      <th>Rank</th>\n      <th>Actual_Gross</th>\n      <th>Adjusted_Gross</th>\n      <th>Artist</th>\n      <th>Tour_Title</th>\n      <th>Shows</th>\n      <th>Average_Gross</th>\n      <th>Reference</th>\n      <th>Start_Year</th>\n      <th>End_Year</th>\n      <th>Total_Years</th>\n    </tr>\n  </thead>\n  <tbody>\n    <tr>\n      <th>0</th>\n      <td>1</td>\n      <td>780000000.0</td>\n      <td>780000000.0</td>\n      <td>Taylor Swift</td>\n      <td>The Eras Tour †</td>\n      <td>56</td>\n      <td>13928571.0</td>\n      <td>[1]</td>\n      <td>2023</td>\n      <td>2024</td>\n      <td>2</td>\n    </tr>\n    <tr>\n      <th>1</th>\n      <td>2</td>\n      <td>579800000.0</td>\n      <td>579800000.0</td>\n      <td>Beyoncé</td>\n      <td>Renaissance World Tour</td>\n      <td>56</td>\n      <td>10353571.0</td>\n      <td>[3]</td>\n      <td>2023</td>\n      <td>2023</td>\n      <td>1</td>\n    </tr>\n    <tr>\n      <th>2</th>\n      <td>3</td>\n      <td>411000000.0</td>\n      <td>560622615.0</td>\n      <td>Madonna</td>\n      <td>Sticky &amp; Sweet Tour ‡[4][a]</td>\n      <td>85</td>\n      <td>4835294.0</td>\n      <td>[6]</td>\n      <td>2008</td>\n      <td>2009</td>\n      <td>2</td>\n    </tr>\n    <tr>\n      <th>3</th>\n      <td>4</td>\n      <td>397300000.0</td>\n      <td>454751555.0</td>\n      <td>Pink</td>\n      <td>Beautiful Trauma World Tour</td>\n      <td>156</td>\n      <td>2546795.0</td>\n      <td>[7]</td>\n      <td>2018</td>\n      <td>2019</td>\n      <td>2</td>\n    </tr>\n    <tr>\n      <th>4</th>\n      <td>5</td>\n      <td>345675146.0</td>\n      <td>402844849.0</td>\n      <td>Taylor Swift</td>\n      <td>Reputation Stadium Tour</td>\n      <td>53</td>\n      <td>6522173.0</td>\n      <td>[8]</td>\n      <td>2018</td>\n      <td>2018</td>\n      <td>1</td>\n    </tr>\n  </tbody>\n</table>\n</div>"
          },
          "metadata": {}
        }
      ],
      "execution_count": 94
    },
    {
      "id": "a937a0b9-3ce1-41dc-93c5-663b285e4918",
      "cell_type": "code",
      "source": "df.info()",
      "metadata": {
        "trusted": true
      },
      "outputs": [
        {
          "name": "stdout",
          "output_type": "stream",
          "text": "<class 'pandas.core.frame.DataFrame'>\nRangeIndex: 20 entries, 0 to 19\nData columns (total 11 columns):\n #   Column          Non-Null Count  Dtype  \n---  ------          --------------  -----  \n 0   Rank            20 non-null     int64  \n 1   Actual_Gross    20 non-null     float64\n 2   Adjusted_Gross  20 non-null     float64\n 3   Artist          20 non-null     object \n 4   Tour_Title      20 non-null     object \n 5   Shows           20 non-null     int64  \n 6   Average_Gross   20 non-null     float64\n 7   Reference       20 non-null     object \n 8   Start_Year      20 non-null     int64  \n 9   End_Year        20 non-null     int64  \n 10  Total_Years     20 non-null     int64  \ndtypes: float64(3), int64(5), object(3)\nmemory usage: 1.6+ KB\n"
        }
      ],
      "execution_count": 95
    },
    {
      "id": "0ad7afeb-f61b-48ad-9c5b-8e1ba2f96f30",
      "cell_type": "code",
      "source": "#Data has been cleaned\n#Years was splitted into start year and end year\n#total years was added\n#Columns with too many irreplaceable missing values were removed\n#No duplicates found\n#All columns have the correct data type\n#Everything matches",
      "metadata": {
        "trusted": true
      },
      "outputs": [],
      "execution_count": 96
    },
    {
      "id": "3d5ec1fb-bafc-471b-81a6-346b8eae0fe9",
      "cell_type": "code",
      "source": "",
      "metadata": {
        "trusted": true
      },
      "outputs": [],
      "execution_count": null
    }
  ]
}