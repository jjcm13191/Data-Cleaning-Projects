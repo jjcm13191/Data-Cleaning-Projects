{
  "metadata": {
    "kernelspec": {
      "name": "python",
      "display_name": "Python (Pyodide)",
      "language": "python"
    },
    "language_info": {
      "codemirror_mode": {
        "name": "python",
        "version": 3
      },
      "file_extension": ".py",
      "mimetype": "text/x-python",
      "name": "python",
      "nbconvert_exporter": "python",
      "pygments_lexer": "ipython3",
      "version": "3.8"
    }
  },
  "nbformat_minor": 5,
  "nbformat": 4,
  "cells": [
    {
      "id": "a1210f71-6ec6-4029-9924-55a2c8f689c7",
      "cell_type": "code",
      "source": "import pandas as pd\nimport numpy as np\nfrom matplotlib import pyplot as plt",
      "metadata": {
        "trusted": true
      },
      "outputs": [
        {
          "name": "stderr",
          "output_type": "stream",
          "text": "Matplotlib is building the font cache; this may take a moment.\n"
        }
      ],
      "execution_count": 2
    },
    {
      "id": "017aea6d-9dd4-4f84-811f-a19e977cc88b",
      "cell_type": "code",
      "source": "df2 = pd.read_csv('acs2017_county_data.csv')",
      "metadata": {
        "trusted": true
      },
      "outputs": [],
      "execution_count": 6
    },
    {
      "id": "36a9fc38-1722-4ccc-a51c-d63b5c716638",
      "cell_type": "code",
      "source": "df2.head()",
      "metadata": {
        "trusted": true
      },
      "outputs": [
        {
          "execution_count": 7,
          "output_type": "execute_result",
          "data": {
            "text/plain": "   CountyId    State          County  TotalPop    Men   Women  Hispanic  \\\n0      1001  Alabama  Autauga County     55036  26899   28137       2.7   \n1      1003  Alabama  Baldwin County    203360  99527  103833       4.4   \n2      1005  Alabama  Barbour County     26201  13976   12225       4.2   \n3      1007  Alabama     Bibb County     22580  12251   10329       2.4   \n4      1009  Alabama   Blount County     57667  28490   29177       9.0   \n\n   White  Black  Native  ...  Walk  OtherTransp  WorkAtHome  MeanCommute  \\\n0   75.4   18.9     0.3  ...   0.6          1.3         2.5         25.8   \n1   83.1    9.5     0.8  ...   0.8          1.1         5.6         27.0   \n2   45.7   47.8     0.2  ...   2.2          1.7         1.3         23.4   \n3   74.6   22.0     0.4  ...   0.3          1.7         1.5         30.0   \n4   87.4    1.5     0.3  ...   0.4          0.4         2.1         35.0   \n\n   Employed  PrivateWork  PublicWork  SelfEmployed  FamilyWork  Unemployment  \n0     24112         74.1        20.2           5.6         0.1           5.2  \n1     89527         80.7        12.9           6.3         0.1           5.5  \n2      8878         74.1        19.1           6.5         0.3          12.4  \n3      8171         76.0        17.4           6.3         0.3           8.2  \n4     21380         83.9        11.9           4.0         0.1           4.9  \n\n[5 rows x 37 columns]",
            "text/html": "<div>\n<style scoped>\n    .dataframe tbody tr th:only-of-type {\n        vertical-align: middle;\n    }\n\n    .dataframe tbody tr th {\n        vertical-align: top;\n    }\n\n    .dataframe thead th {\n        text-align: right;\n    }\n</style>\n<table border=\"1\" class=\"dataframe\">\n  <thead>\n    <tr style=\"text-align: right;\">\n      <th></th>\n      <th>CountyId</th>\n      <th>State</th>\n      <th>County</th>\n      <th>TotalPop</th>\n      <th>Men</th>\n      <th>Women</th>\n      <th>Hispanic</th>\n      <th>White</th>\n      <th>Black</th>\n      <th>Native</th>\n      <th>...</th>\n      <th>Walk</th>\n      <th>OtherTransp</th>\n      <th>WorkAtHome</th>\n      <th>MeanCommute</th>\n      <th>Employed</th>\n      <th>PrivateWork</th>\n      <th>PublicWork</th>\n      <th>SelfEmployed</th>\n      <th>FamilyWork</th>\n      <th>Unemployment</th>\n    </tr>\n  </thead>\n  <tbody>\n    <tr>\n      <th>0</th>\n      <td>1001</td>\n      <td>Alabama</td>\n      <td>Autauga County</td>\n      <td>55036</td>\n      <td>26899</td>\n      <td>28137</td>\n      <td>2.7</td>\n      <td>75.4</td>\n      <td>18.9</td>\n      <td>0.3</td>\n      <td>...</td>\n      <td>0.6</td>\n      <td>1.3</td>\n      <td>2.5</td>\n      <td>25.8</td>\n      <td>24112</td>\n      <td>74.1</td>\n      <td>20.2</td>\n      <td>5.6</td>\n      <td>0.1</td>\n      <td>5.2</td>\n    </tr>\n    <tr>\n      <th>1</th>\n      <td>1003</td>\n      <td>Alabama</td>\n      <td>Baldwin County</td>\n      <td>203360</td>\n      <td>99527</td>\n      <td>103833</td>\n      <td>4.4</td>\n      <td>83.1</td>\n      <td>9.5</td>\n      <td>0.8</td>\n      <td>...</td>\n      <td>0.8</td>\n      <td>1.1</td>\n      <td>5.6</td>\n      <td>27.0</td>\n      <td>89527</td>\n      <td>80.7</td>\n      <td>12.9</td>\n      <td>6.3</td>\n      <td>0.1</td>\n      <td>5.5</td>\n    </tr>\n    <tr>\n      <th>2</th>\n      <td>1005</td>\n      <td>Alabama</td>\n      <td>Barbour County</td>\n      <td>26201</td>\n      <td>13976</td>\n      <td>12225</td>\n      <td>4.2</td>\n      <td>45.7</td>\n      <td>47.8</td>\n      <td>0.2</td>\n      <td>...</td>\n      <td>2.2</td>\n      <td>1.7</td>\n      <td>1.3</td>\n      <td>23.4</td>\n      <td>8878</td>\n      <td>74.1</td>\n      <td>19.1</td>\n      <td>6.5</td>\n      <td>0.3</td>\n      <td>12.4</td>\n    </tr>\n    <tr>\n      <th>3</th>\n      <td>1007</td>\n      <td>Alabama</td>\n      <td>Bibb County</td>\n      <td>22580</td>\n      <td>12251</td>\n      <td>10329</td>\n      <td>2.4</td>\n      <td>74.6</td>\n      <td>22.0</td>\n      <td>0.4</td>\n      <td>...</td>\n      <td>0.3</td>\n      <td>1.7</td>\n      <td>1.5</td>\n      <td>30.0</td>\n      <td>8171</td>\n      <td>76.0</td>\n      <td>17.4</td>\n      <td>6.3</td>\n      <td>0.3</td>\n      <td>8.2</td>\n    </tr>\n    <tr>\n      <th>4</th>\n      <td>1009</td>\n      <td>Alabama</td>\n      <td>Blount County</td>\n      <td>57667</td>\n      <td>28490</td>\n      <td>29177</td>\n      <td>9.0</td>\n      <td>87.4</td>\n      <td>1.5</td>\n      <td>0.3</td>\n      <td>...</td>\n      <td>0.4</td>\n      <td>0.4</td>\n      <td>2.1</td>\n      <td>35.0</td>\n      <td>21380</td>\n      <td>83.9</td>\n      <td>11.9</td>\n      <td>4.0</td>\n      <td>0.1</td>\n      <td>4.9</td>\n    </tr>\n  </tbody>\n</table>\n<p>5 rows × 37 columns</p>\n</div>"
          },
          "metadata": {}
        }
      ],
      "execution_count": 7
    },
    {
      "id": "5e84865c-0a60-42ff-a00a-b6723ab78f56",
      "cell_type": "code",
      "source": "df2.columns",
      "metadata": {
        "trusted": true
      },
      "outputs": [
        {
          "execution_count": 8,
          "output_type": "execute_result",
          "data": {
            "text/plain": "Index(['CountyId', 'State', 'County', 'TotalPop', 'Men', 'Women', 'Hispanic',\n       'White', 'Black', 'Native', 'Asian', 'Pacific', 'VotingAgeCitizen',\n       'Income', 'IncomeErr', 'IncomePerCap', 'IncomePerCapErr', 'Poverty',\n       'ChildPoverty', 'Professional', 'Service', 'Office', 'Construction',\n       'Production', 'Drive', 'Carpool', 'Transit', 'Walk', 'OtherTransp',\n       'WorkAtHome', 'MeanCommute', 'Employed', 'PrivateWork', 'PublicWork',\n       'SelfEmployed', 'FamilyWork', 'Unemployment'],\n      dtype='object')"
          },
          "metadata": {}
        }
      ],
      "execution_count": 8
    },
    {
      "id": "e9fe206f-da97-401e-85bc-ca2900d41c70",
      "cell_type": "code",
      "source": "df2.shape",
      "metadata": {
        "trusted": true
      },
      "outputs": [
        {
          "execution_count": 9,
          "output_type": "execute_result",
          "data": {
            "text/plain": "(3220, 37)"
          },
          "metadata": {}
        }
      ],
      "execution_count": 9
    },
    {
      "id": "71360333-d315-45fb-ad1b-d3a84f2ab2fc",
      "cell_type": "code",
      "source": "df2.info()",
      "metadata": {
        "trusted": true
      },
      "outputs": [
        {
          "name": "stdout",
          "output_type": "stream",
          "text": "<class 'pandas.core.frame.DataFrame'>\nRangeIndex: 3220 entries, 0 to 3219\nData columns (total 37 columns):\n #   Column            Non-Null Count  Dtype  \n---  ------            --------------  -----  \n 0   CountyId          3220 non-null   int64  \n 1   State             3220 non-null   object \n 2   County            3220 non-null   object \n 3   TotalPop          3220 non-null   int64  \n 4   Men               3220 non-null   int64  \n 5   Women             3220 non-null   int64  \n 6   Hispanic          3220 non-null   float64\n 7   White             3220 non-null   float64\n 8   Black             3220 non-null   float64\n 9   Native            3220 non-null   float64\n 10  Asian             3220 non-null   float64\n 11  Pacific           3220 non-null   float64\n 12  VotingAgeCitizen  3220 non-null   int64  \n 13  Income            3220 non-null   int64  \n 14  IncomeErr         3220 non-null   int64  \n 15  IncomePerCap      3220 non-null   int64  \n 16  IncomePerCapErr   3220 non-null   int64  \n 17  Poverty           3220 non-null   float64\n 18  ChildPoverty      3219 non-null   float64\n 19  Professional      3220 non-null   float64\n 20  Service           3220 non-null   float64\n 21  Office            3220 non-null   float64\n 22  Construction      3220 non-null   float64\n 23  Production        3220 non-null   float64\n 24  Drive             3220 non-null   float64\n 25  Carpool           3220 non-null   float64\n 26  Transit           3220 non-null   float64\n 27  Walk              3220 non-null   float64\n 28  OtherTransp       3220 non-null   float64\n 29  WorkAtHome        3220 non-null   float64\n 30  MeanCommute       3220 non-null   float64\n 31  Employed          3220 non-null   int64  \n 32  PrivateWork       3220 non-null   float64\n 33  PublicWork        3220 non-null   float64\n 34  SelfEmployed      3220 non-null   float64\n 35  FamilyWork        3220 non-null   float64\n 36  Unemployment      3220 non-null   float64\ndtypes: float64(25), int64(10), object(2)\nmemory usage: 905.7+ KB\n"
        }
      ],
      "execution_count": 12
    },
    {
      "id": "cc736618-c65f-4d4b-8f16-7ddd916c8f7b",
      "cell_type": "code",
      "source": "# Here I dropped all the one null value I found with child poverty percentage.\ndf2 = df2.dropna(how='any',axis=0) ",
      "metadata": {
        "trusted": true
      },
      "outputs": [],
      "execution_count": 13
    },
    {
      "id": "569a6932-bf8e-40d4-a3f5-6c99ee7a0fee",
      "cell_type": "code",
      "source": "df2.info()",
      "metadata": {
        "trusted": true
      },
      "outputs": [
        {
          "name": "stdout",
          "output_type": "stream",
          "text": "<class 'pandas.core.frame.DataFrame'>\nIndex: 3219 entries, 0 to 3219\nData columns (total 37 columns):\n #   Column            Non-Null Count  Dtype  \n---  ------            --------------  -----  \n 0   CountyId          3219 non-null   int64  \n 1   State             3219 non-null   object \n 2   County            3219 non-null   object \n 3   TotalPop          3219 non-null   int64  \n 4   Men               3219 non-null   int64  \n 5   Women             3219 non-null   int64  \n 6   Hispanic          3219 non-null   float64\n 7   White             3219 non-null   float64\n 8   Black             3219 non-null   float64\n 9   Native            3219 non-null   float64\n 10  Asian             3219 non-null   float64\n 11  Pacific           3219 non-null   float64\n 12  VotingAgeCitizen  3219 non-null   int64  \n 13  Income            3219 non-null   int64  \n 14  IncomeErr         3219 non-null   int64  \n 15  IncomePerCap      3219 non-null   int64  \n 16  IncomePerCapErr   3219 non-null   int64  \n 17  Poverty           3219 non-null   float64\n 18  ChildPoverty      3219 non-null   float64\n 19  Professional      3219 non-null   float64\n 20  Service           3219 non-null   float64\n 21  Office            3219 non-null   float64\n 22  Construction      3219 non-null   float64\n 23  Production        3219 non-null   float64\n 24  Drive             3219 non-null   float64\n 25  Carpool           3219 non-null   float64\n 26  Transit           3219 non-null   float64\n 27  Walk              3219 non-null   float64\n 28  OtherTransp       3219 non-null   float64\n 29  WorkAtHome        3219 non-null   float64\n 30  MeanCommute       3219 non-null   float64\n 31  Employed          3219 non-null   int64  \n 32  PrivateWork       3219 non-null   float64\n 33  PublicWork        3219 non-null   float64\n 34  SelfEmployed      3219 non-null   float64\n 35  FamilyWork        3219 non-null   float64\n 36  Unemployment      3219 non-null   float64\ndtypes: float64(25), int64(10), object(2)\nmemory usage: 930.5+ KB\n"
        }
      ],
      "execution_count": 14
    },
    {
      "id": "0e1b5ec6-a085-4e90-94a2-92d77bac1ac4",
      "cell_type": "code",
      "source": "# I add a new column that caluclates the total pop by adding men and women\ndf2.insert(loc=1, column='New_Column', value=df2.Men + df2.Women)",
      "metadata": {
        "trusted": true
      },
      "outputs": [],
      "execution_count": 24
    },
    {
      "id": "4fdeb6c5-bdec-4fec-8cd4-7045df2702de",
      "cell_type": "code",
      "source": "df2.head()",
      "metadata": {
        "trusted": true
      },
      "outputs": [
        {
          "execution_count": 25,
          "output_type": "execute_result",
          "data": {
            "text/plain": "   CountyId  New_Column    State          County  TotalPop    Men   Women  \\\n0      1001       55036  Alabama  Autauga County     55036  26899   28137   \n1      1003      203360  Alabama  Baldwin County    203360  99527  103833   \n2      1005       26201  Alabama  Barbour County     26201  13976   12225   \n3      1007       22580  Alabama     Bibb County     22580  12251   10329   \n4      1009       57667  Alabama   Blount County     57667  28490   29177   \n\n   Hispanic  White  Black  ...  Walk  OtherTransp  WorkAtHome  MeanCommute  \\\n0       2.7   75.4   18.9  ...   0.6          1.3         2.5         25.8   \n1       4.4   83.1    9.5  ...   0.8          1.1         5.6         27.0   \n2       4.2   45.7   47.8  ...   2.2          1.7         1.3         23.4   \n3       2.4   74.6   22.0  ...   0.3          1.7         1.5         30.0   \n4       9.0   87.4    1.5  ...   0.4          0.4         2.1         35.0   \n\n   Employed  PrivateWork  PublicWork  SelfEmployed  FamilyWork  Unemployment  \n0     24112         74.1        20.2           5.6         0.1           5.2  \n1     89527         80.7        12.9           6.3         0.1           5.5  \n2      8878         74.1        19.1           6.5         0.3          12.4  \n3      8171         76.0        17.4           6.3         0.3           8.2  \n4     21380         83.9        11.9           4.0         0.1           4.9  \n\n[5 rows x 38 columns]",
            "text/html": "<div>\n<style scoped>\n    .dataframe tbody tr th:only-of-type {\n        vertical-align: middle;\n    }\n\n    .dataframe tbody tr th {\n        vertical-align: top;\n    }\n\n    .dataframe thead th {\n        text-align: right;\n    }\n</style>\n<table border=\"1\" class=\"dataframe\">\n  <thead>\n    <tr style=\"text-align: right;\">\n      <th></th>\n      <th>CountyId</th>\n      <th>New_Column</th>\n      <th>State</th>\n      <th>County</th>\n      <th>TotalPop</th>\n      <th>Men</th>\n      <th>Women</th>\n      <th>Hispanic</th>\n      <th>White</th>\n      <th>Black</th>\n      <th>...</th>\n      <th>Walk</th>\n      <th>OtherTransp</th>\n      <th>WorkAtHome</th>\n      <th>MeanCommute</th>\n      <th>Employed</th>\n      <th>PrivateWork</th>\n      <th>PublicWork</th>\n      <th>SelfEmployed</th>\n      <th>FamilyWork</th>\n      <th>Unemployment</th>\n    </tr>\n  </thead>\n  <tbody>\n    <tr>\n      <th>0</th>\n      <td>1001</td>\n      <td>55036</td>\n      <td>Alabama</td>\n      <td>Autauga County</td>\n      <td>55036</td>\n      <td>26899</td>\n      <td>28137</td>\n      <td>2.7</td>\n      <td>75.4</td>\n      <td>18.9</td>\n      <td>...</td>\n      <td>0.6</td>\n      <td>1.3</td>\n      <td>2.5</td>\n      <td>25.8</td>\n      <td>24112</td>\n      <td>74.1</td>\n      <td>20.2</td>\n      <td>5.6</td>\n      <td>0.1</td>\n      <td>5.2</td>\n    </tr>\n    <tr>\n      <th>1</th>\n      <td>1003</td>\n      <td>203360</td>\n      <td>Alabama</td>\n      <td>Baldwin County</td>\n      <td>203360</td>\n      <td>99527</td>\n      <td>103833</td>\n      <td>4.4</td>\n      <td>83.1</td>\n      <td>9.5</td>\n      <td>...</td>\n      <td>0.8</td>\n      <td>1.1</td>\n      <td>5.6</td>\n      <td>27.0</td>\n      <td>89527</td>\n      <td>80.7</td>\n      <td>12.9</td>\n      <td>6.3</td>\n      <td>0.1</td>\n      <td>5.5</td>\n    </tr>\n    <tr>\n      <th>2</th>\n      <td>1005</td>\n      <td>26201</td>\n      <td>Alabama</td>\n      <td>Barbour County</td>\n      <td>26201</td>\n      <td>13976</td>\n      <td>12225</td>\n      <td>4.2</td>\n      <td>45.7</td>\n      <td>47.8</td>\n      <td>...</td>\n      <td>2.2</td>\n      <td>1.7</td>\n      <td>1.3</td>\n      <td>23.4</td>\n      <td>8878</td>\n      <td>74.1</td>\n      <td>19.1</td>\n      <td>6.5</td>\n      <td>0.3</td>\n      <td>12.4</td>\n    </tr>\n    <tr>\n      <th>3</th>\n      <td>1007</td>\n      <td>22580</td>\n      <td>Alabama</td>\n      <td>Bibb County</td>\n      <td>22580</td>\n      <td>12251</td>\n      <td>10329</td>\n      <td>2.4</td>\n      <td>74.6</td>\n      <td>22.0</td>\n      <td>...</td>\n      <td>0.3</td>\n      <td>1.7</td>\n      <td>1.5</td>\n      <td>30.0</td>\n      <td>8171</td>\n      <td>76.0</td>\n      <td>17.4</td>\n      <td>6.3</td>\n      <td>0.3</td>\n      <td>8.2</td>\n    </tr>\n    <tr>\n      <th>4</th>\n      <td>1009</td>\n      <td>57667</td>\n      <td>Alabama</td>\n      <td>Blount County</td>\n      <td>57667</td>\n      <td>28490</td>\n      <td>29177</td>\n      <td>9.0</td>\n      <td>87.4</td>\n      <td>1.5</td>\n      <td>...</td>\n      <td>0.4</td>\n      <td>0.4</td>\n      <td>2.1</td>\n      <td>35.0</td>\n      <td>21380</td>\n      <td>83.9</td>\n      <td>11.9</td>\n      <td>4.0</td>\n      <td>0.1</td>\n      <td>4.9</td>\n    </tr>\n  </tbody>\n</table>\n<p>5 rows × 38 columns</p>\n</div>"
          },
          "metadata": {}
        }
      ],
      "execution_count": 25
    },
    {
      "id": "7f4a7352-c2d9-48bd-b09d-b47c2fc992e9",
      "cell_type": "code",
      "source": "#here I see if the total population columns now equal each other\nare_columns_identical = df2['New_Column'].equals(df2['TotalPop'])\nprint(are_columns_identical)",
      "metadata": {
        "trusted": true
      },
      "outputs": [
        {
          "name": "stdout",
          "output_type": "stream",
          "text": "True\n"
        }
      ],
      "execution_count": 26
    },
    {
      "id": "415a882d-807a-41f2-a305-7d76f8a2133c",
      "cell_type": "code",
      "source": "#They do equal each other. I no longer need two total population columns so I delete the one I made\ndf2 = df2.drop('New_Column', axis=1)",
      "metadata": {
        "trusted": true
      },
      "outputs": [],
      "execution_count": 27
    },
    {
      "id": "04b8572b-e562-4421-941c-4b42f96960d0",
      "cell_type": "code",
      "source": "df2.head()",
      "metadata": {
        "trusted": true
      },
      "outputs": [
        {
          "execution_count": 28,
          "output_type": "execute_result",
          "data": {
            "text/plain": "   CountyId    State          County  TotalPop    Men   Women  Hispanic  \\\n0      1001  Alabama  Autauga County     55036  26899   28137       2.7   \n1      1003  Alabama  Baldwin County    203360  99527  103833       4.4   \n2      1005  Alabama  Barbour County     26201  13976   12225       4.2   \n3      1007  Alabama     Bibb County     22580  12251   10329       2.4   \n4      1009  Alabama   Blount County     57667  28490   29177       9.0   \n\n   White  Black  Native  ...  Walk  OtherTransp  WorkAtHome  MeanCommute  \\\n0   75.4   18.9     0.3  ...   0.6          1.3         2.5         25.8   \n1   83.1    9.5     0.8  ...   0.8          1.1         5.6         27.0   \n2   45.7   47.8     0.2  ...   2.2          1.7         1.3         23.4   \n3   74.6   22.0     0.4  ...   0.3          1.7         1.5         30.0   \n4   87.4    1.5     0.3  ...   0.4          0.4         2.1         35.0   \n\n   Employed  PrivateWork  PublicWork  SelfEmployed  FamilyWork  Unemployment  \n0     24112         74.1        20.2           5.6         0.1           5.2  \n1     89527         80.7        12.9           6.3         0.1           5.5  \n2      8878         74.1        19.1           6.5         0.3          12.4  \n3      8171         76.0        17.4           6.3         0.3           8.2  \n4     21380         83.9        11.9           4.0         0.1           4.9  \n\n[5 rows x 37 columns]",
            "text/html": "<div>\n<style scoped>\n    .dataframe tbody tr th:only-of-type {\n        vertical-align: middle;\n    }\n\n    .dataframe tbody tr th {\n        vertical-align: top;\n    }\n\n    .dataframe thead th {\n        text-align: right;\n    }\n</style>\n<table border=\"1\" class=\"dataframe\">\n  <thead>\n    <tr style=\"text-align: right;\">\n      <th></th>\n      <th>CountyId</th>\n      <th>State</th>\n      <th>County</th>\n      <th>TotalPop</th>\n      <th>Men</th>\n      <th>Women</th>\n      <th>Hispanic</th>\n      <th>White</th>\n      <th>Black</th>\n      <th>Native</th>\n      <th>...</th>\n      <th>Walk</th>\n      <th>OtherTransp</th>\n      <th>WorkAtHome</th>\n      <th>MeanCommute</th>\n      <th>Employed</th>\n      <th>PrivateWork</th>\n      <th>PublicWork</th>\n      <th>SelfEmployed</th>\n      <th>FamilyWork</th>\n      <th>Unemployment</th>\n    </tr>\n  </thead>\n  <tbody>\n    <tr>\n      <th>0</th>\n      <td>1001</td>\n      <td>Alabama</td>\n      <td>Autauga County</td>\n      <td>55036</td>\n      <td>26899</td>\n      <td>28137</td>\n      <td>2.7</td>\n      <td>75.4</td>\n      <td>18.9</td>\n      <td>0.3</td>\n      <td>...</td>\n      <td>0.6</td>\n      <td>1.3</td>\n      <td>2.5</td>\n      <td>25.8</td>\n      <td>24112</td>\n      <td>74.1</td>\n      <td>20.2</td>\n      <td>5.6</td>\n      <td>0.1</td>\n      <td>5.2</td>\n    </tr>\n    <tr>\n      <th>1</th>\n      <td>1003</td>\n      <td>Alabama</td>\n      <td>Baldwin County</td>\n      <td>203360</td>\n      <td>99527</td>\n      <td>103833</td>\n      <td>4.4</td>\n      <td>83.1</td>\n      <td>9.5</td>\n      <td>0.8</td>\n      <td>...</td>\n      <td>0.8</td>\n      <td>1.1</td>\n      <td>5.6</td>\n      <td>27.0</td>\n      <td>89527</td>\n      <td>80.7</td>\n      <td>12.9</td>\n      <td>6.3</td>\n      <td>0.1</td>\n      <td>5.5</td>\n    </tr>\n    <tr>\n      <th>2</th>\n      <td>1005</td>\n      <td>Alabama</td>\n      <td>Barbour County</td>\n      <td>26201</td>\n      <td>13976</td>\n      <td>12225</td>\n      <td>4.2</td>\n      <td>45.7</td>\n      <td>47.8</td>\n      <td>0.2</td>\n      <td>...</td>\n      <td>2.2</td>\n      <td>1.7</td>\n      <td>1.3</td>\n      <td>23.4</td>\n      <td>8878</td>\n      <td>74.1</td>\n      <td>19.1</td>\n      <td>6.5</td>\n      <td>0.3</td>\n      <td>12.4</td>\n    </tr>\n    <tr>\n      <th>3</th>\n      <td>1007</td>\n      <td>Alabama</td>\n      <td>Bibb County</td>\n      <td>22580</td>\n      <td>12251</td>\n      <td>10329</td>\n      <td>2.4</td>\n      <td>74.6</td>\n      <td>22.0</td>\n      <td>0.4</td>\n      <td>...</td>\n      <td>0.3</td>\n      <td>1.7</td>\n      <td>1.5</td>\n      <td>30.0</td>\n      <td>8171</td>\n      <td>76.0</td>\n      <td>17.4</td>\n      <td>6.3</td>\n      <td>0.3</td>\n      <td>8.2</td>\n    </tr>\n    <tr>\n      <th>4</th>\n      <td>1009</td>\n      <td>Alabama</td>\n      <td>Blount County</td>\n      <td>57667</td>\n      <td>28490</td>\n      <td>29177</td>\n      <td>9.0</td>\n      <td>87.4</td>\n      <td>1.5</td>\n      <td>0.3</td>\n      <td>...</td>\n      <td>0.4</td>\n      <td>0.4</td>\n      <td>2.1</td>\n      <td>35.0</td>\n      <td>21380</td>\n      <td>83.9</td>\n      <td>11.9</td>\n      <td>4.0</td>\n      <td>0.1</td>\n      <td>4.9</td>\n    </tr>\n  </tbody>\n</table>\n<p>5 rows × 37 columns</p>\n</div>"
          },
          "metadata": {}
        }
      ],
      "execution_count": 28
    },
    {
      "id": "2d0ec022-98d7-4a38-8376-501c42b00b2a",
      "cell_type": "code",
      "source": "df2.State.nunique()",
      "metadata": {
        "trusted": true
      },
      "outputs": [
        {
          "execution_count": 29,
          "output_type": "execute_result",
          "data": {
            "text/plain": "52"
          },
          "metadata": {}
        }
      ],
      "execution_count": 29
    },
    {
      "id": "2cdb334e-4db4-4b0b-9e05-6aae6d02224f",
      "cell_type": "code",
      "source": "#The US usually consists of 50 states yet we have 52. It seems they also included DC and Puerto Rico. \n#No change needed\ndf2.State.unique()",
      "metadata": {
        "trusted": true
      },
      "outputs": [
        {
          "execution_count": 30,
          "output_type": "execute_result",
          "data": {
            "text/plain": "array(['Alabama', 'Alaska', 'Arizona', 'Arkansas', 'California',\n       'Colorado', 'Connecticut', 'Delaware', 'District of Columbia',\n       'Florida', 'Georgia', 'Hawaii', 'Idaho', 'Illinois', 'Indiana',\n       'Iowa', 'Kansas', 'Kentucky', 'Louisiana', 'Maine', 'Maryland',\n       'Massachusetts', 'Michigan', 'Minnesota', 'Mississippi',\n       'Missouri', 'Montana', 'Nebraska', 'Nevada', 'New Hampshire',\n       'New Jersey', 'New Mexico', 'New York', 'North Carolina',\n       'North Dakota', 'Ohio', 'Oklahoma', 'Oregon', 'Pennsylvania',\n       'Rhode Island', 'South Carolina', 'South Dakota', 'Tennessee',\n       'Texas', 'Utah', 'Vermont', 'Virginia', 'Washington',\n       'West Virginia', 'Wisconsin', 'Wyoming', 'Puerto Rico'],\n      dtype=object)"
          },
          "metadata": {}
        }
      ],
      "execution_count": 30
    },
    {
      "id": "85ded8b6-ade9-40f6-a0db-6666354ff8a1",
      "cell_type": "code",
      "source": "#Let's look at the columns that I wan't able to view\n#Nothing out of the ordinary.\nprint(df2.iloc[:, [10,11,12,13,14,15,16,17,18,19,20,21,22,23,24,25,26,27,28, 29]])",
      "metadata": {
        "trusted": true
      },
      "outputs": [
        {
          "name": "stdout",
          "output_type": "stream",
          "text": "      Asian  Pacific  VotingAgeCitizen  Income  IncomeErr  IncomePerCap  \\\n0       0.9      0.0             41016   55317       2838         27824   \n1       0.7      0.0            155376   52562       1348         29364   \n2       0.6      0.0             20269   33368       2551         17561   \n3       0.0      0.0             17662   43404       3431         20911   \n4       0.1      0.0             42513   47412       2630         22021   \n...     ...      ...               ...     ...        ...           ...   \n3215    0.0      0.0             42838   18900       1219         10197   \n3216    0.0      0.0              7045   16261       2414         11136   \n3217    0.0      0.0             18053   19893       1935         10449   \n3218    0.0      0.0             27523   15586       1467          8672   \n3219    0.0      0.0             29763   14451       1371          8124   \n\n      IncomePerCapErr  Poverty  ChildPoverty  Professional  Service  Office  \\\n0                2024     13.7          20.1          35.3     18.0    23.2   \n1                 735     11.8          16.1          35.7     18.2    25.6   \n2                 798     27.2          44.9          25.0     16.8    22.6   \n3                1889     15.2          26.6          24.4     17.6    19.7   \n4                 850     15.6          25.4          28.5     12.9    23.3   \n...               ...      ...           ...           ...      ...     ...   \n3215              576     43.8          49.4          28.6     20.2    25.9   \n3216             1459     36.8          68.2          20.9     38.4    16.4   \n3217             1619     50.0          67.9          22.5     21.2    22.7   \n3218              702     52.4          62.1          27.7     26.0    20.7   \n3219              445     50.4          58.2          30.4     20.2    25.6   \n\n      Construction  Production  Drive  Carpool  Transit  Walk  OtherTransp  \\\n0              8.1        15.4   86.0      9.6      0.1   0.6          1.3   \n1              9.7        10.8   84.7      7.6      0.1   0.8          1.1   \n2             11.5        24.1   83.4     11.1      0.3   2.2          1.7   \n3             15.9        22.4   86.4      9.5      0.7   0.3          1.7   \n4             15.8        19.5   86.8     10.2      0.1   0.4          0.4   \n...            ...         ...    ...      ...      ...   ...          ...   \n3215          11.1        14.2   92.0      4.2      0.9   1.4          0.6   \n3216          16.9         7.3   76.3     16.9      0.0   5.0          0.0   \n3217          14.1        19.5   83.1     11.8      0.1   2.1          0.0   \n3218           9.5        16.0   87.6      9.2      0.0   1.4          1.8   \n3219          12.6        11.3   82.8      8.2      2.2   1.7          0.1   \n\n      WorkAtHome  \n0            2.5  \n1            5.6  \n2            1.3  \n3            1.5  \n4            2.1  \n...          ...  \n3215         0.9  \n3216         1.7  \n3217         2.8  \n3218         0.1  \n3219         5.0  \n\n[3219 rows x 20 columns]\n"
        }
      ],
      "execution_count": 40
    },
    {
      "id": "f00e989b-df11-4a14-9777-e0965caba7df",
      "cell_type": "code",
      "source": "df2.shape",
      "metadata": {
        "trusted": true
      },
      "outputs": [
        {
          "execution_count": 42,
          "output_type": "execute_result",
          "data": {
            "text/plain": "(3219, 37)"
          },
          "metadata": {}
        }
      ],
      "execution_count": 42
    },
    {
      "id": "32e651f8-d40c-4465-aa60-948d5ab343e2",
      "cell_type": "code",
      "source": "#There are 3219 rows\n#There are 3218 counties in America and including Puerto Rico.\n#However, this data is from 2017 so counties might have been changed",
      "metadata": {
        "trusted": true
      },
      "outputs": [],
      "execution_count": null
    },
    {
      "id": "067fada5-c5cf-4513-850e-714eb6459495",
      "cell_type": "code",
      "source": "df2.County.nunique()",
      "metadata": {
        "trusted": true
      },
      "outputs": [
        {
          "execution_count": 43,
          "output_type": "execute_result",
          "data": {
            "text/plain": "1954"
          },
          "metadata": {}
        }
      ],
      "execution_count": 43
    },
    {
      "id": "252f6ec4-7b1a-4f03-93c1-ced12df9a3e0",
      "cell_type": "code",
      "source": "#Many counties share the same names, explaining why the number of unique county names is so low\n#Based on present day (2025), there are 1916 unique county names.\n#Names might have been changed in the past 8 years. \n",
      "metadata": {
        "trusted": true
      },
      "outputs": [],
      "execution_count": 44
    },
    {
      "id": "8267590d-a9bd-442a-befa-5f25dbe72058",
      "cell_type": "code",
      "source": "#Data has been cleaned\n#No splitting was necessary\n#Missing values have been removed\n#No duplicates found\n#All columns have the correct data type\n#Everything matches",
      "metadata": {
        "trusted": true
      },
      "outputs": [],
      "execution_count": 45
    },
    {
      "id": "cf2079c1-079d-47b2-b4aa-b1731533b5dd",
      "cell_type": "code",
      "source": "",
      "metadata": {
        "trusted": true
      },
      "outputs": [],
      "execution_count": null
    }
  ]
}